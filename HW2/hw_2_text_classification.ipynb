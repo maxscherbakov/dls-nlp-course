{
  "cells": [
    {
      "cell_type": "markdown",
      "metadata": {
        "id": "d0ADTojbpfLt"
      },
      "source": [
        "# Домашнее задание. Нейросетевая классификация текстов\n",
        "\n",
        "В этом домашнем задании вам предстоит самостоятельно решить задачу классификации текстов на основе семинарского кода. Мы будем использовать датасет [ag_news](https://paperswithcode.com/dataset/ag-news). Это датасет для классификации новостей на 4 темы: \"World\", \"Sports\", \"Business\", \"Sci/Tech\".\n",
        "\n",
        "Установим модуль datasets, чтобы нам проще было работать с данными."
      ]
    },
    {
      "cell_type": "code",
      "execution_count": null,
      "metadata": {},
      "outputs": [],
      "source": [
        "!pip install datasets"
      ]
    },
    {
      "cell_type": "markdown",
      "metadata": {
        "id": "rh9ZXSeCpng9"
      },
      "source": [
        "Импорт необходимых библиотек"
      ]
    },
    {
      "cell_type": "code",
      "execution_count": 1,
      "metadata": {
        "id": "XOJi16bLpd_O"
      },
      "outputs": [],
      "source": [
        "import torch\n",
        "import torch.nn as nn\n",
        "from torch.utils.data import Dataset, DataLoader\n",
        "import datasets\n",
        "\n",
        "import numpy as np\n",
        "import matplotlib.pyplot as plt\n",
        "\n",
        "from tqdm.auto import tqdm\n",
        "from datasets import load_dataset\n",
        "from nltk.tokenize import word_tokenize\n",
        "from sklearn.model_selection import train_test_split\n",
        "import nltk\n",
        "\n",
        "from collections import Counter\n",
        "from typing import List\n",
        "import string\n",
        "\n",
        "import seaborn\n",
        "seaborn.set(palette='summer')"
      ]
    },
    {
      "cell_type": "code",
      "execution_count": 2,
      "metadata": {
        "colab": {
          "base_uri": "https://localhost:8080/"
        },
        "id": "91JuM0SQvXud",
        "outputId": "e168d70b-d2db-4fbb-b3fc-860aa4ab37f3"
      },
      "outputs": [
        {
          "name": "stderr",
          "output_type": "stream",
          "text": [
            "[nltk_data] Downloading package punkt to /root/nltk_data...\n",
            "[nltk_data]   Unzipping tokenizers/punkt.zip.\n",
            "[nltk_data] Downloading package punkt_tab to /root/nltk_data...\n",
            "[nltk_data]   Unzipping tokenizers/punkt_tab.zip.\n"
          ]
        },
        {
          "data": {
            "text/plain": [
              "True"
            ]
          },
          "execution_count": 2,
          "metadata": {},
          "output_type": "execute_result"
        }
      ],
      "source": [
        "nltk.download('punkt')\n",
        "nltk.download('punkt_tab')"
      ]
    },
    {
      "cell_type": "code",
      "execution_count": 3,
      "metadata": {
        "colab": {
          "base_uri": "https://localhost:8080/",
          "height": 35
        },
        "id": "adJC8ShFq9HM",
        "outputId": "f683953b-a34f-4ee3-d426-2a26d8e59643"
      },
      "outputs": [
        {
          "data": {
            "application/vnd.google.colaboratory.intrinsic+json": {
              "type": "string"
            },
            "text/plain": [
              "'cuda'"
            ]
          },
          "execution_count": 3,
          "metadata": {},
          "output_type": "execute_result"
        }
      ],
      "source": [
        "device = 'cuda' if torch.cuda.is_available() else 'cpu'\n",
        "device"
      ]
    },
    {
      "cell_type": "markdown",
      "metadata": {
        "id": "pwsfS1ENq5ig"
      },
      "source": [
        "## Подготовка данных\n",
        "Для вашего удобства, мы привели код обработки датасета в ноутбуке. Ваша задача --- обучить модель, которая получит максимальное возможное качество на тестовой части."
      ]
    },
    {
      "cell_type": "code",
      "execution_count": null,
      "metadata": {
        "colab": {
          "base_uri": "https://localhost:8080/",
          "height": 304,
          "referenced_widgets": [
            "52858752d92149f4843869d49a88bec9",
            "fe68247572184948b2f9c2fdd3db1fa3",
            "fae7e122c4164cc795be30cab24b48e5",
            "f8e722df50584693acf2af49d91eec8f",
            "9fd5209b48b342c7b4fbc0404277bae3",
            "d1f25dd39d154e94b31d9c9d79617e39",
            "569c9819b4dd414ab64fb54f7e1dff9a",
            "7e01b6430ee14810913437de65d89771",
            "a126747b9450409bb902b62c361d4f3b",
            "cfec54ba40554339b80ba2a16c089c6a",
            "49ff2312f80946c489645313c5654082",
            "cd8996e519ed4f9eab39a598abe9ca94",
            "68301b8062034702832fbf531bf52e48",
            "4ddb6552861e43bf8765e75ec81576b0",
            "cf839547001647e4958da9d83039998a",
            "3289d1ff371c4472be562d868e824dd0",
            "19b075dccf53422a8138f4c369fe80fc",
            "6398cceda98f42de9cb57cf2e5b2609b",
            "0557adf8f77b4102ae50a7b8cb97c202",
            "9dc686620ab64186a13e7fd696a4abc0",
            "7acffa05451640e4be03b5875afa4494",
            "c074f044a24a454481f5242c3ed21c10",
            "13de426a07f246898ed6723712179606",
            "b756fc2013274f66930275c9d3ad8c8d",
            "374685b59c8d4c269f7d278d2ddf60a4",
            "e6fec99a6a5343968d7e4ccae284af7c",
            "caf74de0b6ad4c2cb380f1d487f5aa38",
            "027c450ac686401fac3a9f9bba238c4b",
            "4049165dc52b4b65b5bee31c89b69132",
            "e512b8d8d70043cfbf151a529f78f9de",
            "a800a1eb7b6e468483f39ff2d092a90a",
            "bc04270454054e86be142fcd4086a15b",
            "1f479157d7cf47ce8aa825e7aeb2f616",
            "cb4d24e87ff1439788bb9e4c48af440e",
            "7b7168915a974aa7ac564ddec83756a1",
            "fd07f7ab11434acda4e5c48e8293e58f",
            "44ae4719cf5842c785511d09ecb5ab70",
            "2db62c78ede7417fb7c5bcf7eebb10f9",
            "797cf7dbd48841e6a8978b5ed5d63ee5",
            "d465b79e38b64bd68311abc5f61c7fcc",
            "e43334c2ef62458e86171c011f47146e",
            "92b73afe2e9a404c8edcee6b9335b1dd",
            "526eba67b4aa4ee7b7b7310504a9eb7c",
            "1f71ecf6a6c740dc85918d92543016df",
            "70c7cacd601e4db88f80be32310801de",
            "642d0fa791444cac9ef0b7757dd24798",
            "2a25db4070b544cd9c47a68048005a78",
            "e71927c546bf4b4797b252e587bb50a5",
            "648de93c650f4cfaba68833d6bb47301",
            "89926e3427ab45dcb200cd29ea3ac38d",
            "1e9378d7c60f4e6481f1492ee210b92b",
            "25ea6640ed934cb7ac714c69650a5c5b",
            "669bc3c32830482b8abd33b8036b45e8",
            "2e888468c91943ad9d69973c5f9b9c7c",
            "8ca9289590944a26870822679b23206a"
          ]
        },
        "id": "qHLNWOfJqSfc",
        "outputId": "9cce03d5-6be6-4908-d776-28b1f41b56af"
      },
      "outputs": [],
      "source": [
        "# Загрузим датасет\n",
        "dataset = datasets.load_dataset('ag_news')"
      ]
    },
    {
      "cell_type": "markdown",
      "metadata": {
        "id": "gYG67ZJj4hZS"
      },
      "source": [
        "Как и в семинаре, выполним следующие шаги:\n",
        "* Составим словарь\n",
        "* Создадим класс WordDataset\n",
        "* Выделим обучающую и тестовую часть, создадим DataLoader-ы."
      ]
    },
    {
      "cell_type": "code",
      "execution_count": 5,
      "metadata": {
        "colab": {
          "base_uri": "https://localhost:8080/",
          "height": 67,
          "referenced_widgets": [
            "300815e699d845c3a1050a2a9059f4a0",
            "ec8be78884bd486b9f156b0870f3e251",
            "958a59d2f64a47a482bc22aff2e8b489",
            "21b984c26b574b86aec3711a63f24730",
            "3695e8dd6bcc4aae917a422a113bb8b6",
            "f8573003084e414080b5f38ae1e95346",
            "b6c44122288f4b709e6605b5a2116244",
            "f16fad50f9ee4597810d5bd8a6c28d81",
            "ccb804d176634aaebf0869c1ba960d17",
            "1e20248c926845089002834469fc5606",
            "8aebf5bcd53e452bb021a7acb566b139"
          ]
        },
        "id": "nEvCN0Y1w1yH",
        "outputId": "ebfb3c69-acfa-416b-8116-5a2c046a6b65"
      },
      "outputs": [
        {
          "data": {
            "application/vnd.jupyter.widget-view+json": {
              "model_id": "300815e699d845c3a1050a2a9059f4a0",
              "version_major": 2,
              "version_minor": 0
            },
            "text/plain": [
              "  0%|          | 0/120000 [00:00<?, ?it/s]"
            ]
          },
          "metadata": {},
          "output_type": "display_data"
        },
        {
          "name": "stdout",
          "output_type": "stream",
          "text": [
            "Размер словаря: 11842\n"
          ]
        }
      ],
      "source": [
        "words = Counter()\n",
        "\n",
        "for example in tqdm(dataset['train']['text']):\n",
        "    # Приводим к нижнему регистру и убираем пунктуацию\n",
        "    processed_text = example.lower().translate(\n",
        "        str.maketrans('', '', string.punctuation))\n",
        "\n",
        "    tokenize_text = word_tokenize(processed_text)\n",
        "\n",
        "    for word in tokenize_text:\n",
        "        words[word] += 1\n",
        "\n",
        "\n",
        "vocab = set(['<unk>', '<bos>', '<eos>', '<pad>'])\n",
        "counter_threshold = 25\n",
        "\n",
        "for char, cnt in words.items():\n",
        "    if cnt > counter_threshold:\n",
        "        vocab.add(char)\n",
        "\n",
        "print(f'Размер словаря: {len(vocab)}')\n",
        "\n",
        "word2ind = {char: i for i, char in enumerate(vocab)}\n",
        "ind2word = {i: char for char, i in word2ind.items()}"
      ]
    },
    {
      "cell_type": "code",
      "execution_count": 6,
      "metadata": {
        "id": "FVzXL17PzC7K"
      },
      "outputs": [],
      "source": [
        "class WordDataset:\n",
        "    def __init__(self, sentences):\n",
        "        self.data = sentences\n",
        "        self.unk_id = word2ind['<unk>']\n",
        "        self.bos_id = word2ind['<bos>']\n",
        "        self.eos_id = word2ind['<eos>']\n",
        "        self.pad_id = word2ind['<pad>']\n",
        "\n",
        "    def __getitem__(self, idx: int) -> List[int]:\n",
        "        processed_text = self.data[idx]['text'].lower().translate(\n",
        "            str.maketrans('', '', string.punctuation))\n",
        "        tokenized_sentence = [self.bos_id]\n",
        "        tokenized_sentence += [\n",
        "            word2ind.get(word, self.unk_id) for word in word_tokenize(processed_text)\n",
        "            ]\n",
        "        tokenized_sentence += [self.eos_id]\n",
        "\n",
        "        train_sample = {\n",
        "            \"text\": tokenized_sentence,\n",
        "            \"label\": self.data[idx]['label']\n",
        "        }\n",
        "\n",
        "        return train_sample\n",
        "\n",
        "    def __len__(self) -> int:\n",
        "        return len(self.data)\n",
        "\n",
        "\n",
        "def collate_fn_with_padding(\n",
        "    input_batch: List[List[int]], pad_id=word2ind['<pad>'], max_len=256) -> torch.Tensor:\n",
        "    seq_lens = [len(x['text']) for x in input_batch]\n",
        "    max_seq_len = min(max(seq_lens), max_len)\n",
        "\n",
        "    new_batch = []\n",
        "    for sequence in input_batch:\n",
        "        sequence['text'] = sequence['text'][:max_seq_len]\n",
        "        for _ in range(max_seq_len - len(sequence['text'])):\n",
        "            sequence['text'].append(pad_id)\n",
        "\n",
        "        new_batch.append(sequence['text'])\n",
        "\n",
        "    sequences = torch.LongTensor(new_batch).to(device)\n",
        "    labels = torch.LongTensor([x['label'] for x in input_batch]).to(device)\n",
        "\n",
        "    new_batch = {\n",
        "        'input_ids': sequences,\n",
        "        'label': labels\n",
        "    }\n",
        "\n",
        "    return new_batch"
      ]
    },
    {
      "cell_type": "code",
      "execution_count": 7,
      "metadata": {
        "id": "6xmeK9Ys1BIG"
      },
      "outputs": [],
      "source": [
        "train_dataset = WordDataset(dataset['train'])\n",
        "\n",
        "np.random.seed(42)\n",
        "idx = np.random.choice(np.arange(len(dataset['test'])), 5000)\n",
        "eval_dataset = WordDataset(dataset['test'].select(idx))\n",
        "\n",
        "batch_size = 32\n",
        "train_dataloader = DataLoader(\n",
        "    train_dataset, shuffle=True, collate_fn=collate_fn_with_padding, batch_size=batch_size)\n",
        "\n",
        "eval_dataloader = DataLoader(\n",
        "    eval_dataset, shuffle=False, collate_fn=collate_fn_with_padding, batch_size=batch_size)"
      ]
    },
    {
      "cell_type": "markdown",
      "metadata": {
        "id": "w7LHfh3u5Bie"
      },
      "source": [
        "## Постановка задачи\n",
        "Ваша задача -- получить максимальное возможное accuracy на `eval_dataloader`. Ниже приведена функция, которую вам необходимо запустить для обученной модели, чтобы вычислить качество её работы."
      ]
    },
    {
      "cell_type": "code",
      "execution_count": 8,
      "metadata": {
        "id": "JDZw4Sehn4NE"
      },
      "outputs": [],
      "source": [
        "def evaluate(model, eval_dataloader) -> float:\n",
        "    \"\"\"\n",
        "    Calculate accuracy on validation dataloader.\n",
        "    \"\"\"\n",
        "\n",
        "    predictions = []\n",
        "    target = []\n",
        "    with torch.no_grad():\n",
        "        for batch in eval_dataloader:\n",
        "            logits = model(batch['input_ids'])\n",
        "            predictions.append(logits.argmax(dim=1))\n",
        "            target.append(batch['label'])\n",
        "\n",
        "    predictions = torch.cat(predictions)\n",
        "    target = torch.cat(target)\n",
        "    accuracy = (predictions == target).float().mean().item()\n",
        "\n",
        "    return accuracy"
      ]
    },
    {
      "cell_type": "markdown",
      "metadata": {
        "id": "SMAexY7Y45E4"
      },
      "source": [
        "## Ход работы\n",
        "Оценка за домашнее задание складывается из четырех частей:\n",
        "### Запуск базовой модели с семинара на новом датасете (1 балл)\n",
        "На семинаре мы создали модель, которая дает на нашей задаче довольно высокое качество. Ваша цель --- обучить ее и вычислить `score`, который затем можно будет использовать в качестве бейзлайна.\n",
        "\n",
        "В модели появится одно важное изменение: количество классов теперь равно не 2, а 4. Обратите на это внимание и найдите, что в коде создания модели нужно модифицировать, чтобы учесть это различие.\n",
        "\n",
        "### Проведение экспериментов по улучшению модели (2 балла за каждый эксперимент)\n",
        "Чтобы улучшить качество базовой модели, можно попробовать различные идеи экспериментов. Каждый выполненный эксперимент будет оцениваться в 2 балла. Для получения полного балла за этот пункт вам необходимо выполнить по крайней мере 2 эксперимента. Не расстраивайтесь, если какой-то эксперимент не дал вам прироста к качеству: он все равно зачтется, если выполнен корректно.\n",
        "\n",
        "Вот несколько идей экспериментов:\n",
        "* **Модель RNN**. Попробуйте другие нейросетевые модели --- LSTM и GRU. Мы советуем обратить внимание на [GRU](https://pytorch.org/docs/stable/generated/torch.nn.GRU.html), так как интерфейс этого класса ничем не отличается от обычной Vanilla RNN, которую мы использовали на семинаре.\n",
        "* **Увеличение количества рекуррентных слоев модели**. Это можно сделать с помощью параметра `num_layers` в классе `nn.RNN`. В такой модели выходы первой RNN передаются в качестве входов второй RNN и так далее.\n",
        "* **Изменение архитектуры после применения RNN**. В базовой модели используется агрегация со всех эмбеддингов. Возможно, вы захотите конкатенировать результат агрегации и эмбеддинг с последнего токена.\n",
        "* **Подбор гиперпараметров и обучение до сходимости**. Возможно, для получения более высокого качества просто необходимо увеличить количество эпох обучения нейросети, а также попробовать различные гиперпараметры: размер словаря, `dropout_rate`, `hidden_dim`.\n",
        "\n",
        "Обратите внимание, что главное правило проведения экспериментов --- необходимо совершать одно архитектурное изменение в одном эксперименте. Если вы совершите несколько изменений, то будет неясно, какое именно из изменений дало прирост к качеству.\n",
        "\n",
        "### Получение высокого качества (3 балла)\n",
        "В конце вашей работы вы должны указать, какая из моделей дала лучший результат, и вывести качество, которое дает лучшая модель, с помощью функции `evaluate`. Ваша модель будет оцениваться по метрике `accuracy` следующим образом:\n",
        "* $accuracy < 0.9$ --- 0 баллов;\n",
        "* $0.9 \\leqslant accuracy < 0.91$ --- 1 балл;\n",
        "* $0.91 \\leqslant accuracy < 0.915$ --- 2 балла;\n",
        "* $0.915 \\leqslant accuracy$ --- 3 балла.\n",
        "\n",
        "### Оформление отчета (2 балла)\n",
        "В конце работы подробно опишите все проведенные эксперименты.\n",
        "* Укажите, какие из экспериментов принесли улучшение, а какие --- нет.\n",
        "* Проанализируйте графики сходимости моделей в проведенных экспериментах. Являются ли колебания качества обученных моделей существенными в зависимости от эпохи обучения, или же сходимость стабильная?\n",
        "* Укажите, какая модель получилась оптимальной.\n",
        "\n",
        "Желаем удачи!"
      ]
    },
    {
      "cell_type": "markdown",
      "metadata": {
        "id": "9IHCVMf14EQJ"
      },
      "source": [
        "### 1. Модель с семинара\n",
        "(поменяли num_classes)"
      ]
    },
    {
      "cell_type": "code",
      "execution_count": 9,
      "metadata": {
        "id": "BqKYrcyxBoxx"
      },
      "outputs": [],
      "source": [
        "class CharLM(nn.Module):\n",
        "    def __init__(\n",
        "        self, hidden_dim: int, vocab_size: int, num_classes: int = 4,\n",
        "        aggregation_type: str = 'max'\n",
        "        ):\n",
        "        super().__init__()\n",
        "        self.embedding = nn.Embedding(vocab_size, hidden_dim)\n",
        "        self.rnn = nn.RNN(hidden_dim, hidden_dim, batch_first=True)\n",
        "        self.linear = nn.Linear(hidden_dim, hidden_dim)\n",
        "        self.projection = nn.Linear(hidden_dim, num_classes)\n",
        "\n",
        "        self.non_lin = nn.Tanh()\n",
        "        self.dropout = nn.Dropout(p=0.1)\n",
        "\n",
        "        self.aggregation_type = aggregation_type\n",
        "\n",
        "    def forward(self, input_batch) -> torch.Tensor:\n",
        "        embeddings = self.embedding(input_batch)  # [batch_size, seq_len, hidden_dim]\n",
        "        output, _ = self.rnn(embeddings)  # [batch_size, seq_len, hidden_dim]\n",
        "\n",
        "        if self.aggregation_type == 'max':\n",
        "            output = output.max(dim=1)[0] #[batch_size, hidden_dim]\n",
        "        elif self.aggregation_type == 'mean':\n",
        "            output = output.mean(dim=1) #[batch_size, hidden_dim]\n",
        "        else:\n",
        "            raise ValueError(\"Invalid aggregation_type\")\n",
        "\n",
        "        output = self.dropout(self.linear(self.non_lin(output)))  # [batch_size, hidden_dim]\n",
        "        prediction = self.projection(self.non_lin(output))  # [batch_size, num_classes]\n",
        "        return prediction"
      ]
    },
    {
      "cell_type": "code",
      "execution_count": 10,
      "metadata": {
        "colab": {
          "base_uri": "https://localhost:8080/",
          "height": 373,
          "referenced_widgets": [
            "95c6a7f68d6e4c3dbce8788b94bc63b9",
            "958c3aa61b814c86afe77529937dbcfa",
            "3287afb7ebd847338f4462a6c57d8074",
            "afc9c255b438418181da5083f742a0f5",
            "8dc9aa404ceb4196a3ea80ec5e221013",
            "abd6bc45386d483ea8b4da70623155a9",
            "6317f4c277db4552876cfd2c747b2400",
            "113f5ea977f24502837de24315261337",
            "1a227188528a42ad9939c79ff93f52d7",
            "712787a1a91e42f2bb4453b66e4f23e0",
            "700cc31c9afb40a3b3ff56c821568ca2",
            "ee4b6bb5a065486d854ce0d91dccdf59",
            "785973e4546d4316b004bad1878b535c",
            "d051dc78cf934613860cd9cb11e0b4b3",
            "b78b01e7517c4dc9aa2c2b3956b62ddd",
            "5a9866915ff8484f8830a449c57190dd",
            "47121502c0044fbfb5aae1fc81bd488c",
            "8a47318eca384dbaa053164ff6ed3c1e",
            "8e69f9b6978a49268d26a042e26c60cf",
            "45939c001dc34ef19255d591ee40c116",
            "165e99356c5b458a9356c50638706324",
            "7f11ac7e0f844a398382a34fc51a7583",
            "dbbd54ffd30148f5857066adaba58ceb",
            "011483fbff374b8c938327985fb8e231",
            "68b553cdf85649efa693b351f7789691",
            "583026ace1454b68a78b7f2509ea8e54",
            "cffe3a301f9543888a6f569a5628e280",
            "c790e2b221304790a293aa3920e53e15",
            "52b779dc459a4690b49178de620666b3",
            "41bd757a521947e7a94182436d924dad",
            "ee2aca9f3c5644d9aada4860e48d6e1e",
            "a3616bcf0f2a42d0a4efa0c1c9b57dc1",
            "db04f95d36c94f409b773f8503b30baa",
            "d263a8132eb546509f2967a0f4872a27",
            "b1935a75bad6403b8797929e1b87141b",
            "d39a3329b23146969c244bfbaa6d5f11",
            "8930be3ebcdc4e1597be8c344e44f2b0",
            "1f3ff020ab3349d5a6c943f7574fae8e",
            "1e83586abdee40899ca726061ceeba6c",
            "c5842aaccc5d4d508c91dfb7d43cb95c",
            "75bfa523390140c09aee4dae20d7f00c",
            "6fe2bb67270e4805bac679180967e869",
            "2a398b8de02a4075a0adc23bab75b5ed",
            "01b7ff152a264a10a16ee051d0eb1ff8",
            "afce0d370eca462a98dad0262463b911",
            "fb8e69493f6e471984b84a2845f7e2d2",
            "8a0e413226ae4589a7ee8df9872656a7",
            "86b204d044c24cdaa06e675f6eff1f3c",
            "1e5437f03bf149d4adadb7c4f0c1992e",
            "7e562d8be9de4087b9071f69f3f8dfe0",
            "5f9cf2cbbfd148ca9f16d7088b732fc8",
            "7342d4df7f084220929cfede2371e5ca",
            "d30e8c3e81e9412b938c866c3e2fe407",
            "b87c8c763caa41008490f0d84654fac6",
            "7aad4d645afc4597a845174f439e9fee",
            "6fab5ab736264b5b8bdfb5bd97500b83",
            "c6ffc96ee27540e9bca91c23e83135df",
            "6fdeeb37c836471995c60cd2cb72f6b8",
            "5e56f8cae0b44c9f810f57d0667c0360",
            "0feed2af84b74774b3b689da4d9f797e",
            "c07b114114304ed592de28792c0c4df9",
            "f5c8c40ea8e344d2a16146e1db9758ec",
            "0a5065e5e2624625beb9593222c7c741",
            "2bd6e72524bc406ea6c71989da51a634",
            "dbec0d9ed76846fc98299f28dd086e50",
            "d8aca58982154d3ca0e4df6b113a3c44",
            "76caf2d9d40740ca8cac6161ec89b768",
            "0090bcaa6484476493bea462e8ce6ac5",
            "82600b6053734d588457553b87562e81",
            "bc5bafa0214c4f50a69cb07a789bc550",
            "43d92d1f174d40c997c223d18a310ee0",
            "bc4260f64269414d9634d743f774f6cc",
            "0d5f71133ec943599f81eb047dcd871d",
            "09d4dd31bdb648549d43847f6f60b9e5",
            "6f2c70bc67834927adefae8a42de6560",
            "3d4e8d8e88a34fa7a5c029ec2ed1c487",
            "303b3ce596424842bad1736047fb9517",
            "2214e260588640c089976618c61abe46",
            "2772d680219f4afb9f7cd9f58eae940b",
            "80a4b02100a74d6a87adb5bec70d9eb6",
            "71da94bf4f7042ea993eb481c963134c",
            "6a7ef2760b33405baa49f8c60374c453",
            "557abde1d1904fd8adbb050f94ad61e1",
            "1bd9d9739f91414aa136e91d03b6196d",
            "7208be96d1544dbd93762e149dc03a6d",
            "f407c2fe8b7a43d6bb55cf74f3e50a93",
            "7953e5f8790d429daa029eada2dccd09",
            "0f630fed49c644efba7baf5e49845faf",
            "ef10b821becc479880e591325babb4e7",
            "960fcb7bae5d426b96ca945867a848d6",
            "d3d48cafd3cf4c0ebb0fe1e68303b785",
            "4ce02524f5cd412b883292f5dda8718e",
            "93e9927b55ed4b3aa9b7422dee7d8dc9",
            "e27b0c06680a4998812994e2ac7ed2bd",
            "da071b81460c44d78f8682dfe5e8ba84",
            "2c20e7231cde4e88bbf851105425d570",
            "adc705bd50e64a44a803918ad478a85b",
            "44c78887a0e54c099ee5a24013116fd4",
            "e878875883af45b381cce5716501f9e1",
            "72dc5665ef654f0da2cd19f19f56429c",
            "1822b1e363be4428a840d1dc2659ecd2",
            "2a0fa5065d714d63a640a03064deed11",
            "bba12929d9d143fb8b3e1a5ae2b55d94",
            "7a57c513fff2444e93c242e6e2b86cb6",
            "81a6e7f2f4564ee7bc7ed6ed51cab4b3",
            "98308a534f8d4890839a1534bc3705f4",
            "38361adc57cc45358029264d3327067f",
            "923d7b57bf17417fbf524e36a9a4b509",
            "cece42a71f9f446192f558f3d474ce02",
            "f0a3c323249e4fb5b30ab86189fe3317"
          ]
        },
        "id": "o3bVXCCP4EQJ",
        "outputId": "c1e6b8d7-ecda-4fbd-8f82-729a73814be7"
      },
      "outputs": [
        {
          "name": "stdout",
          "output_type": "stream",
          "text": [
            "Starting training for max\n"
          ]
        },
        {
          "data": {
            "application/vnd.jupyter.widget-view+json": {
              "model_id": "95c6a7f68d6e4c3dbce8788b94bc63b9",
              "version_major": 2,
              "version_minor": 0
            },
            "text/plain": [
              "Training epoch 0::   0%|          | 0/3750 [00:00<?, ?it/s]"
            ]
          },
          "metadata": {},
          "output_type": "display_data"
        },
        {
          "data": {
            "application/vnd.jupyter.widget-view+json": {
              "model_id": "ee4b6bb5a065486d854ce0d91dccdf59",
              "version_major": 2,
              "version_minor": 0
            },
            "text/plain": [
              "Training epoch 1::   0%|          | 0/3750 [00:00<?, ?it/s]"
            ]
          },
          "metadata": {},
          "output_type": "display_data"
        },
        {
          "data": {
            "application/vnd.jupyter.widget-view+json": {
              "model_id": "dbbd54ffd30148f5857066adaba58ceb",
              "version_major": 2,
              "version_minor": 0
            },
            "text/plain": [
              "Training epoch 2::   0%|          | 0/3750 [00:00<?, ?it/s]"
            ]
          },
          "metadata": {},
          "output_type": "display_data"
        },
        {
          "data": {
            "application/vnd.jupyter.widget-view+json": {
              "model_id": "d263a8132eb546509f2967a0f4872a27",
              "version_major": 2,
              "version_minor": 0
            },
            "text/plain": [
              "Training epoch 3::   0%|          | 0/3750 [00:00<?, ?it/s]"
            ]
          },
          "metadata": {},
          "output_type": "display_data"
        },
        {
          "data": {
            "application/vnd.jupyter.widget-view+json": {
              "model_id": "afce0d370eca462a98dad0262463b911",
              "version_major": 2,
              "version_minor": 0
            },
            "text/plain": [
              "Training epoch 4::   0%|          | 0/3750 [00:00<?, ?it/s]"
            ]
          },
          "metadata": {},
          "output_type": "display_data"
        },
        {
          "name": "stdout",
          "output_type": "stream",
          "text": [
            "Starting training for mean\n"
          ]
        },
        {
          "data": {
            "application/vnd.jupyter.widget-view+json": {
              "model_id": "6fab5ab736264b5b8bdfb5bd97500b83",
              "version_major": 2,
              "version_minor": 0
            },
            "text/plain": [
              "Training epoch 0::   0%|          | 0/3750 [00:00<?, ?it/s]"
            ]
          },
          "metadata": {},
          "output_type": "display_data"
        },
        {
          "data": {
            "application/vnd.jupyter.widget-view+json": {
              "model_id": "76caf2d9d40740ca8cac6161ec89b768",
              "version_major": 2,
              "version_minor": 0
            },
            "text/plain": [
              "Training epoch 1::   0%|          | 0/3750 [00:00<?, ?it/s]"
            ]
          },
          "metadata": {},
          "output_type": "display_data"
        },
        {
          "data": {
            "application/vnd.jupyter.widget-view+json": {
              "model_id": "2214e260588640c089976618c61abe46",
              "version_major": 2,
              "version_minor": 0
            },
            "text/plain": [
              "Training epoch 2::   0%|          | 0/3750 [00:00<?, ?it/s]"
            ]
          },
          "metadata": {},
          "output_type": "display_data"
        },
        {
          "data": {
            "application/vnd.jupyter.widget-view+json": {
              "model_id": "ef10b821becc479880e591325babb4e7",
              "version_major": 2,
              "version_minor": 0
            },
            "text/plain": [
              "Training epoch 3::   0%|          | 0/3750 [00:00<?, ?it/s]"
            ]
          },
          "metadata": {},
          "output_type": "display_data"
        },
        {
          "data": {
            "application/vnd.jupyter.widget-view+json": {
              "model_id": "72dc5665ef654f0da2cd19f19f56429c",
              "version_major": 2,
              "version_minor": 0
            },
            "text/plain": [
              "Training epoch 4::   0%|          | 0/3750 [00:00<?, ?it/s]"
            ]
          },
          "metadata": {},
          "output_type": "display_data"
        }
      ],
      "source": [
        "num_epoch = 5\n",
        "eval_steps = len(train_dataloader) // 2\n",
        "\n",
        "\n",
        "losses_type = {}\n",
        "acc_type = {}\n",
        "\n",
        "for aggregation_type in ['max', 'mean']:\n",
        "    print(f\"Starting training for {aggregation_type}\")\n",
        "    losses = []\n",
        "    acc = []\n",
        "\n",
        "    model = CharLM(\n",
        "        hidden_dim=256, vocab_size=len(vocab), aggregation_type=aggregation_type).to(device)\n",
        "    criterion = nn.CrossEntropyLoss(ignore_index=word2ind['<pad>'])\n",
        "    optimizer = torch.optim.Adam(model.parameters())\n",
        "\n",
        "    for epoch in range(num_epoch):\n",
        "        epoch_losses = []\n",
        "        model.train()\n",
        "        for i, batch in enumerate(tqdm(train_dataloader, desc=f'Training epoch {epoch}:')):\n",
        "            optimizer.zero_grad()\n",
        "            logits = model(batch['input_ids'])\n",
        "            loss = criterion(logits, batch['label'])\n",
        "            loss.backward()\n",
        "            optimizer.step()\n",
        "\n",
        "            epoch_losses.append(loss.item())\n",
        "            if i % eval_steps == 0:\n",
        "                model.eval()\n",
        "                acc.append(evaluate(model, eval_dataloader))\n",
        "                model.train()\n",
        "\n",
        "        losses.append(sum(epoch_losses) / len(epoch_losses))\n",
        "\n",
        "    losses_type[aggregation_type] = losses\n",
        "    acc_type[aggregation_type] = acc"
      ]
    },
    {
      "cell_type": "code",
      "execution_count": 11,
      "metadata": {
        "colab": {
          "base_uri": "https://localhost:8080/",
          "height": 516
        },
        "id": "CoYd9oya4EQK",
        "outputId": "f7c65349-baa2-4726-b5ec-d32e78d56ecc"
      },
      "outputs": [
        {
          "name": "stdout",
          "output_type": "stream",
          "text": [
            "Лучшая accuracy для подхода max: 90.52\n",
            "Лучшая accuracy для подхода mean: 90.78\n"
          ]
        },
        {
          "data": {
            "image/png": "[encoded data removed]",
            "text/plain": [
              "<Figure size 640x480 with 1 Axes>"
            ]
          },
          "metadata": {},
          "output_type": "display_data"
        }
      ],
      "source": [
        "for (name, values), color in zip(losses_type.items(), ['red', 'blue']):\n",
        "    plt.plot(np.arange(len(acc_type[name][1:])), acc_type[name][1:], color=color, label=name)\n",
        "    print(f\"Лучшая accuracy для подхода {name}: {(max(acc_type[name]) * 100):.2f}\")\n",
        "\n",
        "plt.title('Accuracy')\n",
        "plt.xlabel(\"epoch\")\n",
        "plt.legend()\n",
        "plt.show()"
      ]
    },
    {
      "cell_type": "markdown",
      "metadata": {
        "id": "4-OgvoaN4EQK"
      },
      "source": [
        "### 2. Модификации RNN"
      ]
    },
    {
      "cell_type": "code",
      "execution_count": 12,
      "metadata": {
        "id": "RiyOURg84EQK"
      },
      "outputs": [],
      "source": [
        "class GRUClassifier(nn.Module):\n",
        "    def __init__(\n",
        "        self, hidden_dim: int, vocab_size: int, num_classes: int = 4,\n",
        "        aggregation_type: str = 'max'\n",
        "        ):\n",
        "        super().__init__()\n",
        "        self.embedding = nn.Embedding(vocab_size, hidden_dim)\n",
        "        self.gru = nn.GRU(hidden_dim, hidden_dim, batch_first=True)\n",
        "        self.linear = nn.Linear(hidden_dim, hidden_dim)\n",
        "        self.projection = nn.Linear(hidden_dim, num_classes)\n",
        "\n",
        "        self.non_lin = nn.Tanh()\n",
        "        self.dropout = nn.Dropout(p=0.1)\n",
        "\n",
        "        self.aggregation_type = aggregation_type\n",
        "\n",
        "    def forward(self, input_batch) -> torch.Tensor:\n",
        "        embeddings = self.embedding(input_batch)  # [batch_size, seq_len, hidden_dim]\n",
        "        output, _ = self.gru(embeddings)  # [batch_size, seq_len, hidden_dim]\n",
        "\n",
        "        if self.aggregation_type == 'max':\n",
        "            output = output.max(dim=1)[0] #[batch_size, hidden_dim]\n",
        "        elif self.aggregation_type == 'mean':\n",
        "            output = output.mean(dim=1) #[batch_size, hidden_dim]\n",
        "        else:\n",
        "            raise ValueError(\"Invalid aggregation_type\")\n",
        "\n",
        "        output = self.dropout(self.linear(self.non_lin(output)))  # [batch_size, hidden_dim]\n",
        "        prediction = self.projection(self.non_lin(output))  # [batch_size, num_classes]\n",
        "        return prediction"
      ]
    },
    {
      "cell_type": "code",
      "execution_count": 13,
      "metadata": {
        "id": "v8z-QExe4EQM"
      },
      "outputs": [],
      "source": [
        "class DoubleRNNClassifier(nn.Module):\n",
        "    def __init__(\n",
        "        self, hidden_dim: int, vocab_size: int, num_classes: int = 4,\n",
        "        aggregation_type: str = 'max'\n",
        "        ):\n",
        "        super().__init__()\n",
        "        self.embedding = nn.Embedding(vocab_size, hidden_dim)\n",
        "        self.rnn = nn.RNN(hidden_dim, hidden_dim, batch_first=True, num_layers=2)\n",
        "        self.linear = nn.Linear(hidden_dim, hidden_dim)\n",
        "        self.projection = nn.Linear(hidden_dim, num_classes)\n",
        "\n",
        "        self.non_lin = nn.Tanh()\n",
        "        self.dropout = nn.Dropout(p=0.1)\n",
        "\n",
        "        self.aggregation_type = aggregation_type\n",
        "\n",
        "    def forward(self, input_batch) -> torch.Tensor:\n",
        "        embeddings = self.embedding(input_batch)  # [batch_size, seq_len, hidden_dim]\n",
        "        output, _ = self.rnn(embeddings)  # [batch_size, seq_len, hidden_dim]\n",
        "\n",
        "        if self.aggregation_type == 'max':\n",
        "            output = output.max(dim=1)[0] #[batch_size, hidden_dim]\n",
        "        elif self.aggregation_type == 'mean':\n",
        "            output = output.mean(dim=1) #[batch_size, hidden_dim]\n",
        "        else:\n",
        "            raise ValueError(\"Invalid aggregation_type\")\n",
        "\n",
        "        output = self.dropout(self.linear(self.non_lin(output)))  # [batch_size, hidden_dim]\n",
        "        prediction = self.projection(self.non_lin(output))  # [batch_size, num_classes]\n",
        "        return prediction"
      ]
    },
    {
      "cell_type": "code",
      "execution_count": 14,
      "metadata": {
        "id": "fI0VxQSu4EQM"
      },
      "outputs": [],
      "source": [
        "class ModifiAgregateRNNClassifier(nn.Module):\n",
        "    def __init__(\n",
        "        self, hidden_dim: int, vocab_size: int, num_classes: int = 4,\n",
        "        aggregation_type: str = 'max'\n",
        "        ):\n",
        "        super().__init__()\n",
        "        self.embedding = nn.Embedding(vocab_size, hidden_dim)\n",
        "        self.rnn = nn.RNN(hidden_dim, hidden_dim, batch_first=True)\n",
        "        self.linear = nn.Linear(hidden_dim * 2, hidden_dim)\n",
        "        self.projection = nn.Linear(hidden_dim, num_classes)\n",
        "\n",
        "        self.non_lin = nn.Tanh()\n",
        "        self.dropout = nn.Dropout(p=0.1)\n",
        "\n",
        "        self.aggregation_type = aggregation_type\n",
        "\n",
        "    def forward(self, input_batch) -> torch.Tensor:\n",
        "        embeddings = self.embedding(input_batch)  # [batch_size, seq_len, hidden_dim]\n",
        "        output, _ = self.rnn(embeddings)  # [batch_size, seq_len, hidden_dim]\n",
        "\n",
        "        if self.aggregation_type == 'max':\n",
        "            aggregation_out = output.max(dim=1)[0] #[batch_size, hidden_dim]\n",
        "        elif self.aggregation_type == 'mean':\n",
        "            aggregation_out = output.mean(dim=1) #[batch_size, hidden_dim]\n",
        "        else:\n",
        "            raise ValueError(\"Invalid aggregation_type\")\n",
        "\n",
        "        last_embedding = output[:, -1, :]  # берем эмбеддинг последнего токена [batch_size, hidden_dim]\n",
        "        output = torch.cat((aggregation_out, last_embedding), dim=1)  # [batch_size, hidden_dim * 2]\n",
        "\n",
        "        output = self.dropout(self.linear(self.non_lin(output)))  # [batch_size, hidden_dim]\n",
        "        prediction = self.projection(self.non_lin(output))  # [batch_size, num_classes]\n",
        "        return prediction"
      ]
    },
    {
      "cell_type": "code",
      "execution_count": 15,
      "metadata": {
        "id": "I4dC9gRc4EQM"
      },
      "outputs": [],
      "source": [
        "class AllModifiClassifier(nn.Module):\n",
        "    def __init__(\n",
        "        self, hidden_dim: int, vocab_size: int, num_classes: int = 4,\n",
        "        aggregation_type: str = 'max'\n",
        "        ):\n",
        "        super().__init__()\n",
        "        self.embedding = nn.Embedding(vocab_size, hidden_dim)\n",
        "        self.gru = nn.GRU(hidden_dim, hidden_dim, batch_first=True, num_layers=2)\n",
        "        self.linear = nn.Linear(hidden_dim * 2, hidden_dim)\n",
        "        self.projection = nn.Linear(hidden_dim, num_classes)\n",
        "\n",
        "        self.non_lin = nn.Tanh()\n",
        "        self.dropout = nn.Dropout(p=0.1)\n",
        "\n",
        "        self.aggregation_type = aggregation_type\n",
        "\n",
        "    def forward(self, input_batch) -> torch.Tensor:\n",
        "        embeddings = self.embedding(input_batch)  # [batch_size, seq_len, hidden_dim]\n",
        "        output, _ = self.gru(embeddings)  # [batch_size, seq_len, hidden_dim]\n",
        "\n",
        "        if self.aggregation_type == 'max':\n",
        "            aggregation_out = output.max(dim=1)[0] #[batch_size, hidden_dim]\n",
        "        elif self.aggregation_type == 'mean':\n",
        "            aggregation_out = output.mean(dim=1) #[batch_size, hidden_dim]\n",
        "        else:\n",
        "            raise ValueError(\"Invalid aggregation_type\")\n",
        "\n",
        "        last_embedding = output[:, -1, :]  # берем эмбеддинг последнего токена [batch_size, hidden_dim]\n",
        "        output = torch.cat((aggregation_out, last_embedding), dim=1)  # [batch_size, hidden_dim * 2]\n",
        "\n",
        "        output = self.dropout(self.linear(self.non_lin(output)))  # [batch_size, hidden_dim]\n",
        "        prediction = self.projection(self.non_lin(output))  # [batch_size, num_classes]\n",
        "        return prediction"
      ]
    },
    {
      "cell_type": "code",
      "execution_count": 16,
      "metadata": {
        "colab": {
          "base_uri": "https://localhost:8080/",
          "height": 1000,
          "referenced_widgets": [
            "c33ad39059794c5c9c2bb30872eb73c1",
            "74ed59e311904fae834c449242c3dd43",
            "d493e8d7fee1459eb839494073053a45",
            "9b0f1a3d57934adbbcebb3dfe695f7aa",
            "1d1ce933827e48b995f313c2af1406de",
            "e2684fbfbe884151b2f379bd218833ff",
            "7948ead589a7493dbbfce3ffdf5d9882",
            "0132453a77924b189a0600ab356f144f",
            "b6a4e8c373c042c281b8482b352086d4",
            "016509f954e74506af19a644fa0f6a13",
            "4852b6cd55494698a246835ccaae737a",
            "151fbdcc37534c90b7962ed88871218a",
            "3e2ad79dd0c34decb31fa2bccc9cfeea",
            "ad7242f3b6ef45f08b1556ada3f6454f",
            "530bd4a8a1454d15b5fb79b1639a6c07",
            "e17c48668f504abcb9dc5c0ecd6b821e",
            "e251a24ded9a4cacb3e87fb47b9ee96e",
            "372e6737b01a40fab72b5803ccfe1b8f",
            "a3c4560c5cc545778697827a848dfb17",
            "99f1243f4a4c45499ed77d8c0afcc70c",
            "2896998655ed4dbd95e3c958cc08d5b5",
            "179c4f65883b4486b8857f88f74b5496",
            "7cca2b99b2bf41bba5fe18534afe73f6",
            "8431715c00a946aea45ffaf01d916d43",
            "3778bf6903c24dccb985ea2b172a00f7",
            "fdbebdbd558646ccb73c844ae66f789e",
            "ed9a6494e96845a3bcc479716a435811",
            "4fbe2904683a45c785df6601a83e91ba",
            "d8d451f6dcec4c4e9924ff71742ef15c",
            "c07d1415b78c424cb871dd3239469e5f",
            "43985e22b0904c0bbead78a1c17116b6",
            "4b964e096795465f9d5d380f1ba8f60d",
            "cc32c7cfed1e40efaac69ea7e365526f",
            "32b540c3e206479c9c95065d7eab3427",
            "55c3d3df827b400783ae3bbebc37e438",
            "fbcb8604d9da4d03ba67795a36cfd3d3",
            "76945e97d1f545c2ab1e9921ebdf4409",
            "315f4bb4c2cb413a8cf768ea1f2d80b5",
            "89314606569649b2a5957e2225d47f18",
            "a0098e86c8b94685928a22a8c52b155b",
            "42c36d8626bf432fbcc06bba1e01d63b",
            "07c35d7c33bc40679be5fe1c9d3ac129",
            "c13e01690a7f42c2ae7cfa11729100e8",
            "ccb567e5cf154227b24f1f4166cbdeb8",
            "4b297e471b1e4d67b34d60bad4ce9378",
            "ce875808027b487ca4e92fd878810e3f",
            "f60bf8c5289845e5877758a6fa5406b8",
            "1cbf9089b85f4f59b721204f1c63a9f1",
            "6810f6b46b924e96a0751396731e717b",
            "86cb28b8d25d4eaf9ee8b4242e4ae56c",
            "d3ed68b7e98445e597c9730b1fedbd3a",
            "7c99d93170cc4e458f9c1d65c3e5b559",
            "b6716f2683554c30821406e9db9bc8ff",
            "8e23b7bdcd7241f891127066698c5b44",
            "4551c6a0824b4a1bb4b1637c823c2f52",
            "f261533bf5864265ba18cb7c8ae43723",
            "37803d6a7fbc4f6e988d75471ebfcd93",
            "f95b9bc7dae94e8c8bd7922081ba07af",
            "713325b54ff8470da658349971b56c16",
            "67541e7183124876a96fa8610a78ffca",
            "c588a1995df046de97a0be9f76214ef3",
            "cb64e970aabd43a19c75903953dab851",
            "06cd86c0807248c48c93e53b8cdd2026",
            "1aa5a04e1b51482ea14e4eafa614b36a",
            "cec9d3eeea7f468287467b0814de1dc8",
            "1654cdb33d324331b967bb0af9e8ccad",
            "1038c92afa1c4a5caa42d6bbda7a3b2a",
            "6c3b6f71be0e4c31a4741dead59312a6",
            "a50570a0aa824f6f9f4e177ccd877c64",
            "264563acdad1411f9f68e5fe81b83701",
            "5c34c76b8c7b4d979f77b5a99650ed4a",
            "5354ff5ca59f4d29848311202071583e",
            "07066f90aead45169c2916e041b98227",
            "d4c1f07b721e4f64bb2bf4be9f43adc5",
            "543c73dd358f4669b8ab628e1e2c0bd3",
            "d9aa419aad29445cbd21589c9c33d8ca",
            "dd43c60234764d1f8384d2ce8710d59d",
            "3049e0c5e7b840e2aa2da411f41d2894",
            "7bde001bffc648a58aebdcd38b4b363e",
            "0d766b64a176458a8d7d0d71c72c1e0b",
            "b6e9c255a65a4076b131d0389b1d5ec0",
            "6ebe159273e4441a8b6607bab77ff737",
            "2c7a82ee8fe34db1b4fc2823a43c77e2",
            "af767e7fb1c44e90a3e475763fb05bf6",
            "b7e805f1b9a542a58798c48f29b366f2",
            "3e45d98e3b614beca49443d0e4891704",
            "b4a9246a13134cb48e63b8fc36a00d67",
            "f9b902206ca844f991636caf46ed8840",
            "ac6b99baa891410e8b874f05837377d3",
            "4151a26a73c94efaa44a0460b10c584d",
            "6c3628e841d843c89d57b1e261dad1bd",
            "ea14c5bc20124c9b857ee04ddd44ac82",
            "6af973e1604c4cb58d4528d4bd16a925",
            "2c8c497e29e642fd869c49dff373b439",
            "797c1469982e475b9e12181a130de6eb",
            "c30c53d336ab4135bd9c94f6aefaf901",
            "bbae11d30b7c4959a63620b6363a1661",
            "9ef064f3bb034fecb54d848f54c13e8f",
            "2f6c29beeeed433ba16caceaa8da25cb",
            "e9eae37296124b2493cfaf8a911f8ac2",
            "334a18c9ceee4869a7bc04f0b147aa68",
            "05a704763ba642e996d792c04f655f14",
            "4a7bcf6958ec4642b3c1d0dba22ba317",
            "b8ca91c526c549599441546210546308",
            "ccea4ae32e364d7887a2d860d9e55285",
            "a87011eb574b440b8124a90e0ed4b567",
            "5debeec2441647fe905b8bf7c2209e88",
            "86b2a131b83647818d0585d815feac95",
            "72fb07cfbfe94aa9b4ef5adf4b3e744b",
            "19c4f98a5c4e4050851cb0220b396f64",
            "c67cc6a2ee6749d1bcb4610d9bf6e286",
            "35bbc3176703448b86653ec904a739b4",
            "b39ee620be8b44d09df4555e60187ac7",
            "0572370104aa46ab84c2b9a8e29a4b65",
            "3011bded6fcc46ee9eafb04f41f33767",
            "4a600414caa341ecb860c8e511593b40",
            "2a6046c1de8a4b2b9be1c203a73bde56",
            "1a5e8749904642e59828ede930574cde",
            "795cee6cdd2c45958a291b210a0be54b",
            "e10ad36f6aed4390b20b47016f129c14",
            "f63d0db9482c4a8cb9831a90146c73dd",
            "a15377c609ee4f9a8f34e4da3173613d",
            "3e412b0c79824ef58a9569bf5f9e8d9b",
            "f5b6fc3aa83c47b8a69748e38a3dc46f",
            "897082d03e094c47b4224e8aa032d975",
            "79dcd204a1f14dda88ffbf9d512939b5",
            "fa1f2eac4165403f93ef4872632fbcd2",
            "6e6a34dca6ec412393c20093ae18fc5a",
            "d7f1353099584058915878ef63da6f94",
            "a61de982251b4847be246a91818eaf84",
            "e220993f6b284b4ebee8c5690800a9ea",
            "30ff7e56ac9b463ab7b819f50e6606d7",
            "b3261282499a4288a0e2d7323f0e7cfb",
            "12a9b3634d984ca8b8f2096f2fe85998",
            "ee5cd6c93d81442a849a8ef63756d5c1",
            "04e1cb11288541518f4dbe35314b5066",
            "3c35638d57d7473c9d241011ab793b6b",
            "5b22bb2c1a1f40408fd328dfa888f47f",
            "f54f619197e04e1ca71f1a2694957952",
            "86ca5c57bbfc482ba102e8d12d36f9df",
            "00ed4ee309cd43b9bafe3d803a24d3a1",
            "e71d47a394d24b3fbc216fb8bd04d456",
            "ec1e5c4b7e3e476987615e23c29000b8",
            "a35667f72abd4a229be019655a7f881f",
            "38194d9f984342148f63baef06c25aa2",
            "2018aa3a3d2541418f22d4d584c0fcd8",
            "94ba01696b5e44f1b504eeee325381f8",
            "231d3128542545ad85ba86e1925949f2",
            "3a8168a30d814f02b0e598b6965fda1f",
            "90aa6ee87c6c44a79c248b7565f353c7",
            "4bdb94e6227442278e389932ecfd7f6c",
            "bfacacbf0cb74b0d9b116fd89244c69a",
            "56572eb97cdb4893b75ed69daf87a93c",
            "7aeb168416f54b839412f18a52872166",
            "1b36f268b1ce4cae999c765361eb1638",
            "688fda1eb561456a92d810c68098e30f",
            "0342af3998dc444dbba5688312f1e369",
            "f160c681f22648718124600b5960511d",
            "6a01eeb7b3414e338e48909461d3cf8e",
            "04c29b2b27c44633be7134dfc5e4cee8",
            "746dcf0373fd4c9484bb1a9aa568ab5d",
            "71abbad0dd5e47abbb00db877450df1a",
            "5ef7b3b7d51e4c6d919e9abd857f7d36",
            "5047db03698d44d79dc7998632cd12ac",
            "66e36ce6416f4e53a68ae71a4f2d5ed9",
            "73b850eb8f1a4fd49f36f6abb60ae596",
            "a86813e546ce479ea2e8ffe1db44a6d6",
            "84c6b59add1148faa7962bbc1bc6d0fb",
            "eb49b0f86b454c9b896757c42dd42467",
            "ba40d9d4c426456685eb32031a864163",
            "d749fcac983e44e9b1dea701da14696e",
            "e5f0ceb89ce04f2688de1187557fe157",
            "9d0a35fba9ac4aea82bbd5a2929042ac",
            "5692197bd01e497589e3547992005425",
            "87f95561477c4736ba03eed42d46d084",
            "ed81313abbab4bfab3ee5681540b7416",
            "77c177a6b7154ca098836875b5bb784d",
            "d81877f196814968bb6989c4282ad534",
            "7fc574969b43437eb28e39262a54f005",
            "b017f21349ab4f998523406b97133373",
            "8a8c6337edc6490391b3d0021fa94879",
            "77cc85ed011040ffbde82cf1330beae0",
            "08bb7f02dbfb42e3a1c46939cdd3bd07",
            "c5ac3ef91d424829a960f346adf5b93a",
            "7f8be5706e0b4770b8be4b5b866380c1",
            "d66bd4320034405fab523b0e1210d7b4",
            "349586b4565049cbaaa24673fdecd15a",
            "e487d3405fb5408aa78553619a4fb21d",
            "3d9a9fbe71574110a33d18d56c93357e",
            "1dbe2ab5828c4aeca70bf31ad628bdce",
            "0860079c5fb64424be834308b5f8102a",
            "4f20b21e3d7d4814866a150ca5a9ea51",
            "797609770b2f4e7fbe49ce2ad31aa977",
            "e49b240f365c4896a4fa9d187077d619",
            "e48b922019de4c15897fdac62fd639ba",
            "d5536079e35147ce9aecd67f986145bf",
            "779d38b7e5ce480cbe00a17c5210ed56",
            "eb161949472440a0b35040eca707c480",
            "98341f222bf5425488b50d52200ebc32",
            "ea258e05a54e4a8985c3b54cf37dc6b2",
            "abee7cb4688b421dbbc351fe467d862d",
            "70992b3771b3404aa407b03c07ef5e8d",
            "e803057e6a614c609cd76b3c546f0c06",
            "5600599a9d49471199e51325c4809216",
            "deaef6d92732406e8ddced3ebda2d3c4",
            "71f6f7ebdf844ddb8643911b9ebbe522",
            "29cda98e3d594e2d92d09bb649d343c2",
            "7048aa7e0e6c45a38965fe0cd22f9031",
            "3f08b71d306941c7adec9f8c6d1108b0",
            "af46933f8d9c46e3acf5985be34995ae",
            "7e00c6e4791441c9a9f76874d3589b7a",
            "0e92e27f95ff4e7aa434f9e3ca33376b",
            "122aa6437d3a4e36a58e97ba63bc49fc",
            "21f02195f37f4fe8b578ec4cb803f468",
            "60f9455150034be0970296897a53d998",
            "acd830d6b5ed402680b092d46d334d3d",
            "5f6493ac6cfc442dbeb37d50886a4b86",
            "3008a9c07cd74805b4b262e6182988fc",
            "30f666d7cba44831a3f2fbc5d6b226d8",
            "6a88b9ee8a094c0f92bad672568e4e1e",
            "f2de56754fc543ff9a792863ab28ae93",
            "0fe9e129b1d04f0e881074bffd464bf9",
            "515400dafdf7444dbde49c363be6b968",
            "9c5aca67dc474965907053e3e7a26fe8",
            "01f14da7d84f4889878b5fbc0e9f8ac8",
            "b062a1f7fe7740318fab79b83d754f37",
            "211d96bfd19d4503ab4ba623cbb8961a",
            "92cd1ba2e6e0499b9f03610089f50a3e",
            "1b4590847d5b4062bc49fa91a8f275ed",
            "8679e6d165bb4d8ab123682829208674",
            "e98312c6906b440787bb91832d25acb1",
            "b6ea9b60ac384099971becb683d74ec1",
            "473af2b6633d4d728ef76e3079569773",
            "5a14d4c53b4f438b9b43f1f67d6bef52",
            "8a09f6a72fee422fa0dc82a624d552a0",
            "ecf766a698804f6f8c6bd0975379e3c4",
            "4b5ceaf910fe4e9b8ce53d083af55f04",
            "cfc28c4c0ec6487480191c56f58b8fa2",
            "cfb6104bc46f4226b99cd399d6734a1e",
            "7645de39310f432c88656a405c0bc9ec",
            "3eda13c7f8074192aba37add80fe48df",
            "057ddb886bc4469fa2678e7ebaf94844",
            "cf333f5209a643ee9ceee82257d889b4",
            "59f0916615ac49c88f21c1dea726662f",
            "33bc108f17274640b9ce5bb7d15368d5",
            "16c2db33f88b452f8c1500ab64ab3c34",
            "1e3f5471d0f540c29c70e35fb3c01f96",
            "a66b01ab89a64e96be1d0e60e2eada47",
            "edd66b20181f4dcd8e37c1b21881536f",
            "5afb153ee79d4285b90f8a4646a6bc71",
            "c6efbf4bacf54b62a19bc3c0b08609e8",
            "6c4659b3017b4b3db2cea8b36cb649a2",
            "4d5ded692b3e42d09a9275dc5f863953",
            "a52f5e765a904929b6011e5cc25bb9ef",
            "3bb64b23b14c40a28c09e4b19b0414db",
            "b19492ad6a734f9393570a5e48a1b3ad",
            "da3a734143604b42a950a844cb54aa34",
            "c92b2e1e0931403fa0b09d2001ebd34a",
            "12edad205748414eab18b8f745a4752c",
            "ebf076d02dc047f7add464bb7650b599",
            "5783d0cd4c4342af9485464170192611",
            "9e43a8650e0e41869e6fb770c4891097",
            "d3e1ba63d8954efd9e2a8ae14be59609",
            "bf5898c71b444b35938f01429e64183a",
            "9ea27b3e07d14248bf7f344388345ccd",
            "c2da8f30eacb43158e5f547bbdb62080",
            "53f6d919c44d4792a8e4edb103a1c147",
            "22d64d107f93461bb66556dbadac8b17",
            "3832460b1f444b5daede0aa891d4fcd3",
            "3df6b48f07064128a9ade450a1d772bd",
            "c62c86d81e6e4041a889c4c797db1ea0",
            "95a7ee0ede51428ea01306f385257d34",
            "ead2b1dd5efc4feabbe3a19ce29aabc2",
            "5babb66d8e1649cb943f7157de2253cd",
            "1a22a4961f0a4f339590f3109f6af21e",
            "09412bcec5d94607ae6959aa2c51d0d3",
            "cbe3e8c3119e46ea841179d20a7ee986",
            "c6f57098ec8e495ba85adc40564989f9",
            "d8abd07a760e400493ab77f38c27befd",
            "d8eb315b0ec94762b2c1d08254580fd6",
            "ff0d8e7e2e08453a8a9e0388931f720f",
            "ef2e58f2601a405a8e8a881be6bf6c6d",
            "0bceeec525c442db95d7e8cda3910d02",
            "31dd66d476094ec0bf3036fafd67362a",
            "cf42ca85cbe348119f589212e3932bc7",
            "d7b3d7cf779747aeb96ca779a2d6b190",
            "3d8e8cc6f23449a486a9257045ad9532",
            "80e0182015fc4b679cf06dcf16808eb9",
            "0874c3d911264af79b3d83f6c506bd4b",
            "7f67553ffdd94919996b524f93614cdc",
            "076cc965942d45e4abc3f1d19ffb59d2",
            "e6f33ce7c5974a7fab335070929a2555",
            "122528527c6e4d7e8ceb2153584cc026",
            "5c35b9298e7d4f03be9ea028bad54ef1",
            "be67ed0d465d40fe840cd46283e31072",
            "ce172cad7af94b30bef4fb4045ff0115",
            "ec8b84c5826d433cbd85e313bd6f7204",
            "6574020315b74a2cbcc69a9d21f012ee",
            "a060ea5d068749f2a1214a6ee1c06c08",
            "64a038e799644346bdc70e49737e51a7",
            "390804a026dc4d73b49630c8083aadca",
            "10a45f08d304465db5ba82be000d530b",
            "6b335c8fcaf64c5da593d7115d493770",
            "a0b79f6978334bdba1b044a7fe27558d",
            "68e5cf235d2b4e48bf6f0a14870b3605",
            "49d45a595c414727ae7afb0a5166e85a",
            "9f6c61dc07cf4fdd909256a06bf7dfd3",
            "2c690ff7e72a487c832b545e7946d9f4",
            "4015a9a286594118aabb5e97b46af5db",
            "4c1bb0733879465d8cdc80018b8b1a78",
            "c549f140e987450097ff30a8e758bbfd",
            "823be10a6c6f4d71ab68b6b7a4778832",
            "0c6ebc43c9e946eb927e9eadf26bf1f8",
            "ce11a44161624534b7eeaa94f6afadd8",
            "901c8344948f47e7ae686eb62781c781",
            "ca723671d1424cac8121b3efa1eb5d00",
            "1cfad769b4d041c0825ee4f1a7bd2e2b",
            "38b389b667184755a3236ab825bae487",
            "123c910a53ce4efba9752e8e26115e8d",
            "701827a8c95a496388895f8496926dd3",
            "a821843763f34c26a88d62ec379639e4",
            "c135334a12a74c7e8ad5d2c8fff7112c",
            "4d94aa224b5c4b15abeae387ad19a063",
            "2a201664267d431ab25bc3d7e8237f9a",
            "2e8aedb6037c41e8a0df5dfaa20e7b09",
            "f24d4d7e859e40d98de7d8c55fbb28bd",
            "4e49953561554c958eccc4d136181472",
            "43c6b3a9b93440729d009c8b1ce1266c",
            "a663c14a63bc42cabe797061fa1069ae",
            "655553bf02cd426cb67c93f75b26edbe",
            "b83f2da5339a4728879df43fad717bcc",
            "c60b2125b6754d039cb43b2d21006bf7",
            "88eeae6024df422ca8652e75fe606a32",
            "45e205ed38da41f89e39e1072e41a832",
            "b6784bf819274eb3b76edcc45c85c2bc",
            "f9f92ce77496402b8b1a8a969d5d4c82",
            "ba3351cd51f54c7fbed85f55b1b3368f",
            "d47ed390846247c29c8c15664bdb6165",
            "25dae2b020f048a7a99aad2680abcf83",
            "13c5b4169eac493a9a3e9febd771e558",
            "cd929f203c5a4bd39bcef8510dc00b33",
            "e9b0be5cfc2d4bc79d7bc9a3df845540",
            "6bba2d2e8d5945ce8029b342f956d84e",
            "5c12377014fa484ba237a5e2ba17f5fb",
            "dc3e1931dd3b4cd8be3b6428a2e6c20b",
            "7a500a8c20b34bd5b04f4a0bc05bd35f",
            "7dcd5cf8d68c49578e998730647f4589",
            "e68de0e56bb54c44995e4df228e31ae5",
            "abea7c814fc440ee92add941a3c13c56",
            "ec8efe965af54eb9b71611b6cf4d5a6b",
            "1f24733bfd2740ac8b2af5324a8deb5f",
            "f2ba701a5b194357b57d27b932e2534d",
            "fdf3448d2b704d95bbda3dcbb6b419b8",
            "37a92083cda64ce4a6ed031cf0cb23b2",
            "797560d23b1b44c3b2b1afd63be0eca8",
            "53c0910e64904b9fa70197ab36abfa55",
            "d3bb23192c07412e94599133df33b4a4",
            "00956822b25c42cfaec83acc97c15b1e",
            "d161d8b06efa40f08e4c32892383b495",
            "a34dc75daae8495cbb2a715cb46d3ff1",
            "e9851f7fe2274821bbdeabe7a6c68285",
            "a17f2423c48c49c89cd3fe04069df88a",
            "8fe14a7e314346878b21a4ec3d43c5f0",
            "d86855c4100d480c9e51a6ed85bbfabe",
            "f5ba1238cd414295b86ba2cc778f519c",
            "68dfc9131bcd4db58414b901630e94cb",
            "87805593833646e5a00d0dc9f99f2c7d",
            "a2f04b37c153497986fa586ee9c09a96",
            "646dfd1771a8412781bb0aebfb429525",
            "b31cf3ee08854d109703e7e42629d27d",
            "87ba30b559a64f2b8218a17092beab0c",
            "5b9b519e47d945288657b2c7a27f262b",
            "40da57bd2b604a98889156d9f530b0b3",
            "61e8f74a30fb4632b80faf531dd8d0bd",
            "fcfdb2c728c04e9e9bc07bb5bad2ae41",
            "1a2c5330327941829139bb8a2be16055",
            "7eab0bc3a1dc483ea7b7da86aa554a25",
            "dd7889aa9a9f46f19436ed3150900485",
            "bb6ba95d2f3844679b07a63067043549",
            "9ff7c3bb0654481ea49875472fe3d1d2",
            "05f528ea6dbe4bebb0f8d5bdb3e432e6",
            "7412f25e2d194f58b9b59ae51c00ba61",
            "74df280fb88845a7ac9611bb21dd99c9",
            "2cfe29ffb68749ec9b31c04118b3d721",
            "474910dbf1d84fabafe549ade11d2bc5",
            "f457ad6211114bc6a0a4c8ae9115a451",
            "8c4152d310db40da9268444c7f8e82cf",
            "f0640e5aae404d5aa47ebb2067097b50",
            "a3887d4523724d1d868c2e5399e9efd2",
            "8021165efd6c41ee98b4ca734ac4bf58",
            "8ee63817f22641518a162a697a40e9c4",
            "1917f50a8f3e421f870fc861dcec0edd",
            "49b068b3e826496a8c6f71a86b4b74b6",
            "bfc13924157b46219dae973fe67e644c",
            "004b477931af4283a2fd2a760e4213ea",
            "dec7a9a9809c4494b21d8df56a836d9f",
            "9f3112135d0448fc8c6670cdbb92784e",
            "7db350ad5eb34782a18698ccd8ef0043",
            "2bc5a7c659474e92b9d3adb04459a10a",
            "0d132ec3bd5d4b36a2f06aa5b87647e2",
            "6439ba814bfc45778f7cd29c88e83c7a",
            "76f18ed2be9d46168747e8912bf7836c",
            "bac92e6748b74d9b8601679edddd171c",
            "7725e04dc50b496c970352507f343551",
            "d8679fc4cab64caca42799f1c1770334",
            "ae49917d46c3496d891f73eb30c4c637",
            "424a93b2c0fe4458850c98d44fe676eb",
            "2e5cbf332beb4f01b8074cc1d1418892",
            "b4c40ba45dc7441cbcb500ffd37e56b4",
            "82fceaf3442d406ba045f4a4796a586e",
            "0f4d5c83ba1c4de3a42c82957128b957",
            "050bef75e43d4d8695db29ab82697478",
            "3e40edc798c14f6082217c1e367d7947",
            "887b9a8c3f7441379681ec78d26c9ab7",
            "d977a33068784de98d69f470c0d86f69",
            "caa75da2b44047cda46b7d17e970e96a",
            "59468136842e4ebfb1bb673b660e8613",
            "6c5d2b095a9649d18675b5df291fedfc",
            "9d2fc08976a4469ab6c7162a801c4cca",
            "3eb11be5eb21433a92243d4c7790f2e4",
            "8b86937482ac4d2b9a78f227a85e38ac",
            "734a8659f8044e6b9c576c33771093a0",
            "51f6732eb5ee43f7a57f186c18e4c76d",
            "46c48721434744db97e71f8ecd0f1bf3",
            "b974e3075aea4ca6922dc9782432e8c8",
            "f136c307e6154ad285c6f2ede72b48e9",
            "9c99390df97b433ea12b49a9d1c25d58",
            "97a9fb63ad734c06a980048907c51350",
            "885520b9c0134caf928739916b08ade6",
            "227312b7f817482596c65bd4d8c02dab",
            "99fbfb68105245b79cd62267f0a243a6",
            "d44ecfd16c024e39a47e7c30ac5051c3",
            "20a3c5e66f6b48b2965e9dbb8671cd1c",
            "ddb1cc6aa5d047ae91abdb9c5be7ba32",
            "2b94cf1a247143b29d2a4a5fd2e28365",
            "81657f0eaa634530a8280b216ee2d324",
            "f7c8a79e971643478a88183183df852b",
            "dd5aa77647a04f82a1b1fbf1efbfe77c",
            "9d09193facef49219d15b16cf3018376",
            "d0d0c2d646e64fbc8e403ad39b18c035"
          ]
        },
        "id": "siNo83iI4EQM",
        "outputId": "059da30c-5a91-4e5d-c278-180be1c92dec"
      },
      "outputs": [
        {
          "name": "stdout",
          "output_type": "stream",
          "text": [
            "Starting training for max\n",
            "Trainng model GRUClassifier\n"
          ]
        },
        {
          "data": {
            "application/vnd.jupyter.widget-view+json": {
              "model_id": "c33ad39059794c5c9c2bb30872eb73c1",
              "version_major": 2,
              "version_minor": 0
            },
            "text/plain": [
              "Training epoch 0::   0%|          | 0/3750 [00:00<?, ?it/s]"
            ]
          },
          "metadata": {},
          "output_type": "display_data"
        },
        {
          "data": {
            "application/vnd.jupyter.widget-view+json": {
              "model_id": "151fbdcc37534c90b7962ed88871218a",
              "version_major": 2,
              "version_minor": 0
            },
            "text/plain": [
              "Training epoch 1::   0%|          | 0/3750 [00:00<?, ?it/s]"
            ]
          },
          "metadata": {},
          "output_type": "display_data"
        },
        {
          "data": {
            "application/vnd.jupyter.widget-view+json": {
              "model_id": "7cca2b99b2bf41bba5fe18534afe73f6",
              "version_major": 2,
              "version_minor": 0
            },
            "text/plain": [
              "Training epoch 2::   0%|          | 0/3750 [00:00<?, ?it/s]"
            ]
          },
          "metadata": {},
          "output_type": "display_data"
        },
        {
          "data": {
            "application/vnd.jupyter.widget-view+json": {
              "model_id": "32b540c3e206479c9c95065d7eab3427",
              "version_major": 2,
              "version_minor": 0
            },
            "text/plain": [
              "Training epoch 3::   0%|          | 0/3750 [00:00<?, ?it/s]"
            ]
          },
          "metadata": {},
          "output_type": "display_data"
        },
        {
          "data": {
            "application/vnd.jupyter.widget-view+json": {
              "model_id": "4b297e471b1e4d67b34d60bad4ce9378",
              "version_major": 2,
              "version_minor": 0
            },
            "text/plain": [
              "Training epoch 4::   0%|          | 0/3750 [00:00<?, ?it/s]"
            ]
          },
          "metadata": {},
          "output_type": "display_data"
        },
        {
          "name": "stdout",
          "output_type": "stream",
          "text": [
            "Trainng model DoubleRNNClassifier\n"
          ]
        },
        {
          "data": {
            "application/vnd.jupyter.widget-view+json": {
              "model_id": "f261533bf5864265ba18cb7c8ae43723",
              "version_major": 2,
              "version_minor": 0
            },
            "text/plain": [
              "Training epoch 0::   0%|          | 0/3750 [00:00<?, ?it/s]"
            ]
          },
          "metadata": {},
          "output_type": "display_data"
        },
        {
          "data": {
            "application/vnd.jupyter.widget-view+json": {
              "model_id": "1038c92afa1c4a5caa42d6bbda7a3b2a",
              "version_major": 2,
              "version_minor": 0
            },
            "text/plain": [
              "Training epoch 1::   0%|          | 0/3750 [00:00<?, ?it/s]"
            ]
          },
          "metadata": {},
          "output_type": "display_data"
        },
        {
          "data": {
            "application/vnd.jupyter.widget-view+json": {
              "model_id": "3049e0c5e7b840e2aa2da411f41d2894",
              "version_major": 2,
              "version_minor": 0
            },
            "text/plain": [
              "Training epoch 2::   0%|          | 0/3750 [00:00<?, ?it/s]"
            ]
          },
          "metadata": {},
          "output_type": "display_data"
        },
        {
          "data": {
            "application/vnd.jupyter.widget-view+json": {
              "model_id": "ac6b99baa891410e8b874f05837377d3",
              "version_major": 2,
              "version_minor": 0
            },
            "text/plain": [
              "Training epoch 3::   0%|          | 0/3750 [00:00<?, ?it/s]"
            ]
          },
          "metadata": {},
          "output_type": "display_data"
        },
        {
          "data": {
            "application/vnd.jupyter.widget-view+json": {
              "model_id": "e9eae37296124b2493cfaf8a911f8ac2",
              "version_major": 2,
              "version_minor": 0
            },
            "text/plain": [
              "Training epoch 4::   0%|          | 0/3750 [00:00<?, ?it/s]"
            ]
          },
          "metadata": {},
          "output_type": "display_data"
        },
        {
          "name": "stdout",
          "output_type": "stream",
          "text": [
            "Trainng model ModifiAgregateRNNClassifier\n"
          ]
        },
        {
          "data": {
            "application/vnd.jupyter.widget-view+json": {
              "model_id": "c67cc6a2ee6749d1bcb4610d9bf6e286",
              "version_major": 2,
              "version_minor": 0
            },
            "text/plain": [
              "Training epoch 0::   0%|          | 0/3750 [00:00<?, ?it/s]"
            ]
          },
          "metadata": {},
          "output_type": "display_data"
        },
        {
          "data": {
            "application/vnd.jupyter.widget-view+json": {
              "model_id": "a15377c609ee4f9a8f34e4da3173613d",
              "version_major": 2,
              "version_minor": 0
            },
            "text/plain": [
              "Training epoch 1::   0%|          | 0/3750 [00:00<?, ?it/s]"
            ]
          },
          "metadata": {},
          "output_type": "display_data"
        },
        {
          "data": {
            "application/vnd.jupyter.widget-view+json": {
              "model_id": "b3261282499a4288a0e2d7323f0e7cfb",
              "version_major": 2,
              "version_minor": 0
            },
            "text/plain": [
              "Training epoch 2::   0%|          | 0/3750 [00:00<?, ?it/s]"
            ]
          },
          "metadata": {},
          "output_type": "display_data"
        },
        {
          "data": {
            "application/vnd.jupyter.widget-view+json": {
              "model_id": "a35667f72abd4a229be019655a7f881f",
              "version_major": 2,
              "version_minor": 0
            },
            "text/plain": [
              "Training epoch 3::   0%|          | 0/3750 [00:00<?, ?it/s]"
            ]
          },
          "metadata": {},
          "output_type": "display_data"
        },
        {
          "data": {
            "application/vnd.jupyter.widget-view+json": {
              "model_id": "1b36f268b1ce4cae999c765361eb1638",
              "version_major": 2,
              "version_minor": 0
            },
            "text/plain": [
              "Training epoch 4::   0%|          | 0/3750 [00:00<?, ?it/s]"
            ]
          },
          "metadata": {},
          "output_type": "display_data"
        },
        {
          "name": "stdout",
          "output_type": "stream",
          "text": [
            "Trainng model AllModifiClassifier\n"
          ]
        },
        {
          "data": {
            "application/vnd.jupyter.widget-view+json": {
              "model_id": "73b850eb8f1a4fd49f36f6abb60ae596",
              "version_major": 2,
              "version_minor": 0
            },
            "text/plain": [
              "Training epoch 0::   0%|          | 0/3750 [00:00<?, ?it/s]"
            ]
          },
          "metadata": {},
          "output_type": "display_data"
        },
        {
          "data": {
            "application/vnd.jupyter.widget-view+json": {
              "model_id": "77c177a6b7154ca098836875b5bb784d",
              "version_major": 2,
              "version_minor": 0
            },
            "text/plain": [
              "Training epoch 1::   0%|          | 0/3750 [00:00<?, ?it/s]"
            ]
          },
          "metadata": {},
          "output_type": "display_data"
        },
        {
          "data": {
            "application/vnd.jupyter.widget-view+json": {
              "model_id": "e487d3405fb5408aa78553619a4fb21d",
              "version_major": 2,
              "version_minor": 0
            },
            "text/plain": [
              "Training epoch 2::   0%|          | 0/3750 [00:00<?, ?it/s]"
            ]
          },
          "metadata": {},
          "output_type": "display_data"
        },
        {
          "data": {
            "application/vnd.jupyter.widget-view+json": {
              "model_id": "98341f222bf5425488b50d52200ebc32",
              "version_major": 2,
              "version_minor": 0
            },
            "text/plain": [
              "Training epoch 3::   0%|          | 0/3750 [00:00<?, ?it/s]"
            ]
          },
          "metadata": {},
          "output_type": "display_data"
        },
        {
          "data": {
            "application/vnd.jupyter.widget-view+json": {
              "model_id": "af46933f8d9c46e3acf5985be34995ae",
              "version_major": 2,
              "version_minor": 0
            },
            "text/plain": [
              "Training epoch 4::   0%|          | 0/3750 [00:00<?, ?it/s]"
            ]
          },
          "metadata": {},
          "output_type": "display_data"
        },
        {
          "name": "stdout",
          "output_type": "stream",
          "text": [
            "Starting training for mean\n",
            "Trainng model GRUClassifier\n"
          ]
        },
        {
          "data": {
            "application/vnd.jupyter.widget-view+json": {
              "model_id": "f2de56754fc543ff9a792863ab28ae93",
              "version_major": 2,
              "version_minor": 0
            },
            "text/plain": [
              "Training epoch 0::   0%|          | 0/3750 [00:00<?, ?it/s]"
            ]
          },
          "metadata": {},
          "output_type": "display_data"
        },
        {
          "data": {
            "application/vnd.jupyter.widget-view+json": {
              "model_id": "b6ea9b60ac384099971becb683d74ec1",
              "version_major": 2,
              "version_minor": 0
            },
            "text/plain": [
              "Training epoch 1::   0%|          | 0/3750 [00:00<?, ?it/s]"
            ]
          },
          "metadata": {},
          "output_type": "display_data"
        },
        {
          "data": {
            "application/vnd.jupyter.widget-view+json": {
              "model_id": "cf333f5209a643ee9ceee82257d889b4",
              "version_major": 2,
              "version_minor": 0
            },
            "text/plain": [
              "Training epoch 2::   0%|          | 0/3750 [00:00<?, ?it/s]"
            ]
          },
          "metadata": {},
          "output_type": "display_data"
        },
        {
          "data": {
            "application/vnd.jupyter.widget-view+json": {
              "model_id": "a52f5e765a904929b6011e5cc25bb9ef",
              "version_major": 2,
              "version_minor": 0
            },
            "text/plain": [
              "Training epoch 3::   0%|          | 0/3750 [00:00<?, ?it/s]"
            ]
          },
          "metadata": {},
          "output_type": "display_data"
        },
        {
          "data": {
            "application/vnd.jupyter.widget-view+json": {
              "model_id": "9ea27b3e07d14248bf7f344388345ccd",
              "version_major": 2,
              "version_minor": 0
            },
            "text/plain": [
              "Training epoch 4::   0%|          | 0/3750 [00:00<?, ?it/s]"
            ]
          },
          "metadata": {},
          "output_type": "display_data"
        },
        {
          "name": "stdout",
          "output_type": "stream",
          "text": [
            "Trainng model DoubleRNNClassifier\n"
          ]
        },
        {
          "data": {
            "application/vnd.jupyter.widget-view+json": {
              "model_id": "09412bcec5d94607ae6959aa2c51d0d3",
              "version_major": 2,
              "version_minor": 0
            },
            "text/plain": [
              "Training epoch 0::   0%|          | 0/3750 [00:00<?, ?it/s]"
            ]
          },
          "metadata": {},
          "output_type": "display_data"
        },
        {
          "data": {
            "application/vnd.jupyter.widget-view+json": {
              "model_id": "3d8e8cc6f23449a486a9257045ad9532",
              "version_major": 2,
              "version_minor": 0
            },
            "text/plain": [
              "Training epoch 1::   0%|          | 0/3750 [00:00<?, ?it/s]"
            ]
          },
          "metadata": {},
          "output_type": "display_data"
        },
        {
          "data": {
            "application/vnd.jupyter.widget-view+json": {
              "model_id": "6574020315b74a2cbcc69a9d21f012ee",
              "version_major": 2,
              "version_minor": 0
            },
            "text/plain": [
              "Training epoch 2::   0%|          | 0/3750 [00:00<?, ?it/s]"
            ]
          },
          "metadata": {},
          "output_type": "display_data"
        },
        {
          "data": {
            "application/vnd.jupyter.widget-view+json": {
              "model_id": "4015a9a286594118aabb5e97b46af5db",
              "version_major": 2,
              "version_minor": 0
            },
            "text/plain": [
              "Training epoch 3::   0%|          | 0/3750 [00:00<?, ?it/s]"
            ]
          },
          "metadata": {},
          "output_type": "display_data"
        },
        {
          "data": {
            "application/vnd.jupyter.widget-view+json": {
              "model_id": "701827a8c95a496388895f8496926dd3",
              "version_major": 2,
              "version_minor": 0
            },
            "text/plain": [
              "Training epoch 4::   0%|          | 0/3750 [00:00<?, ?it/s]"
            ]
          },
          "metadata": {},
          "output_type": "display_data"
        },
        {
          "name": "stdout",
          "output_type": "stream",
          "text": [
            "Trainng model ModifiAgregateRNNClassifier\n"
          ]
        },
        {
          "data": {
            "application/vnd.jupyter.widget-view+json": {
              "model_id": "b83f2da5339a4728879df43fad717bcc",
              "version_major": 2,
              "version_minor": 0
            },
            "text/plain": [
              "Training epoch 0::   0%|          | 0/3750 [00:00<?, ?it/s]"
            ]
          },
          "metadata": {},
          "output_type": "display_data"
        },
        {
          "data": {
            "application/vnd.jupyter.widget-view+json": {
              "model_id": "e9b0be5cfc2d4bc79d7bc9a3df845540",
              "version_major": 2,
              "version_minor": 0
            },
            "text/plain": [
              "Training epoch 1::   0%|          | 0/3750 [00:00<?, ?it/s]"
            ]
          },
          "metadata": {},
          "output_type": "display_data"
        },
        {
          "data": {
            "application/vnd.jupyter.widget-view+json": {
              "model_id": "fdf3448d2b704d95bbda3dcbb6b419b8",
              "version_major": 2,
              "version_minor": 0
            },
            "text/plain": [
              "Training epoch 2::   0%|          | 0/3750 [00:00<?, ?it/s]"
            ]
          },
          "metadata": {},
          "output_type": "display_data"
        },
        {
          "data": {
            "application/vnd.jupyter.widget-view+json": {
              "model_id": "d86855c4100d480c9e51a6ed85bbfabe",
              "version_major": 2,
              "version_minor": 0
            },
            "text/plain": [
              "Training epoch 3::   0%|          | 0/3750 [00:00<?, ?it/s]"
            ]
          },
          "metadata": {},
          "output_type": "display_data"
        },
        {
          "data": {
            "application/vnd.jupyter.widget-view+json": {
              "model_id": "fcfdb2c728c04e9e9bc07bb5bad2ae41",
              "version_major": 2,
              "version_minor": 0
            },
            "text/plain": [
              "Training epoch 4::   0%|          | 0/3750 [00:00<?, ?it/s]"
            ]
          },
          "metadata": {},
          "output_type": "display_data"
        },
        {
          "name": "stdout",
          "output_type": "stream",
          "text": [
            "Trainng model AllModifiClassifier\n"
          ]
        },
        {
          "data": {
            "application/vnd.jupyter.widget-view+json": {
              "model_id": "f457ad6211114bc6a0a4c8ae9115a451",
              "version_major": 2,
              "version_minor": 0
            },
            "text/plain": [
              "Training epoch 0::   0%|          | 0/3750 [00:00<?, ?it/s]"
            ]
          },
          "metadata": {},
          "output_type": "display_data"
        },
        {
          "data": {
            "application/vnd.jupyter.widget-view+json": {
              "model_id": "9f3112135d0448fc8c6670cdbb92784e",
              "version_major": 2,
              "version_minor": 0
            },
            "text/plain": [
              "Training epoch 1::   0%|          | 0/3750 [00:00<?, ?it/s]"
            ]
          },
          "metadata": {},
          "output_type": "display_data"
        },
        {
          "data": {
            "application/vnd.jupyter.widget-view+json": {
              "model_id": "2e5cbf332beb4f01b8074cc1d1418892",
              "version_major": 2,
              "version_minor": 0
            },
            "text/plain": [
              "Training epoch 2::   0%|          | 0/3750 [00:00<?, ?it/s]"
            ]
          },
          "metadata": {},
          "output_type": "display_data"
        },
        {
          "data": {
            "application/vnd.jupyter.widget-view+json": {
              "model_id": "9d2fc08976a4469ab6c7162a801c4cca",
              "version_major": 2,
              "version_minor": 0
            },
            "text/plain": [
              "Training epoch 3::   0%|          | 0/3750 [00:00<?, ?it/s]"
            ]
          },
          "metadata": {},
          "output_type": "display_data"
        },
        {
          "data": {
            "application/vnd.jupyter.widget-view+json": {
              "model_id": "227312b7f817482596c65bd4d8c02dab",
              "version_major": 2,
              "version_minor": 0
            },
            "text/plain": [
              "Training epoch 4::   0%|          | 0/3750 [00:00<?, ?it/s]"
            ]
          },
          "metadata": {},
          "output_type": "display_data"
        }
      ],
      "source": [
        "num_epoch = 5\n",
        "eval_steps = len(train_dataloader) // 2\n",
        "\n",
        "model_agr_type_acc = {}\n",
        "losses_type = {}\n",
        "acc_type = {}\n",
        "\n",
        "\n",
        "\n",
        "for aggregation_type in ['max', 'mean']:\n",
        "    print(f\"Starting training for {aggregation_type}\")\n",
        "    models = [GRUClassifier(hidden_dim=256, vocab_size=len(vocab), aggregation_type=aggregation_type),\n",
        "          DoubleRNNClassifier(hidden_dim=256, vocab_size=len(vocab), aggregation_type=aggregation_type),\n",
        "          ModifiAgregateRNNClassifier(hidden_dim=256, vocab_size=len(vocab), aggregation_type=aggregation_type),\n",
        "          AllModifiClassifier(hidden_dim=256, vocab_size=len(vocab), aggregation_type=aggregation_type)]\n",
        "    for model in models:\n",
        "        print(f'Trainng model {model.__class__.__name__}')\n",
        "        model = model.to(device)\n",
        "        criterion = nn.CrossEntropyLoss(ignore_index=word2ind['<pad>'])\n",
        "        optimizer = torch.optim.Adam(model.parameters())\n",
        "        acc = []\n",
        "\n",
        "        for epoch in range(num_epoch):\n",
        "            epoch_losses = []\n",
        "            model.train()\n",
        "            for i, batch in enumerate(tqdm(train_dataloader, desc=f'Training epoch {epoch}:')):\n",
        "                optimizer.zero_grad()\n",
        "                logits = model(batch['input_ids'])\n",
        "                loss = criterion(logits, batch['label'])\n",
        "                loss.backward()\n",
        "                optimizer.step()\n",
        "\n",
        "                epoch_losses.append(loss.item())\n",
        "                if i % eval_steps == 0:\n",
        "                    model.eval()\n",
        "                    acc.append(evaluate(model, eval_dataloader))\n",
        "                    model.train()\n",
        "\n",
        "            losses.append(sum(epoch_losses) / len(epoch_losses))\n",
        "        model_agr_type_acc.setdefault(model.__class__.__name__, {})[aggregation_type] = acc"
      ]
    },
    {
      "cell_type": "code",
      "execution_count": 20,
      "metadata": {
        "colab": {
          "base_uri": "https://localhost:8080/",
          "height": 801
        },
        "id": "q5zy5Qmh4EQN",
        "outputId": "2beb3684-3f33-444f-e8a1-66f56692d1cd"
      },
      "outputs": [
        {
          "data": {
            "image/png": "[encoded data removed]",
            "text/plain": [
              "<Figure size 1200x800 with 4 Axes>"
            ]
          },
          "metadata": {},
          "output_type": "display_data"
        }
      ],
      "source": [
        "\n",
        "fig, axs = plt.subplots(2, 2, figsize=(12, 8))\n",
        "axs = axs.flatten()\n",
        "\n",
        "for i, (model_name, agg_data) in enumerate(model_agr_type_acc.items()):\n",
        "    ax = axs[i]\n",
        "\n",
        "    # Отображение линий\n",
        "    if 'max' in agg_data:\n",
        "        ax.plot(agg_data['max'], label='Aggregation: max', color='red')\n",
        "    if 'mean' in agg_data:\n",
        "        ax.plot(agg_data['mean'], label='Aggregation: mean', color='blue')\n",
        "\n",
        "    # Вывод максимальных значений\n",
        "    max_max = 100 * max(agg_data['max']) if 'max' in agg_data else None\n",
        "    max_mean = 100 * max(agg_data['mean']) if 'mean' in agg_data else None\n",
        "\n",
        "    # Добавление текста с максимальными значениями\n",
        "    textstr = ''\n",
        "    if max_max is not None:\n",
        "        textstr += f'aggregator max: {max_max:.2f}\\n'\n",
        "    if max_mean is not None:\n",
        "        textstr += f'aggregator mean: {max_mean:.2f}'\n",
        "    ax.text(0.95, 0.05, textstr, transform=ax.transAxes, fontsize=10,\n",
        "            verticalalignment='bottom', horizontalalignment='right',\n",
        "            bbox=dict(boxstyle='round', facecolor='white', alpha=0.6))\n",
        "\n",
        "    ax.set_title(f'Accuracy for {model_name}')\n",
        "    ax.set_xlabel('Epoch')\n",
        "    ax.set_ylabel('Accuracy')\n",
        "    ax.legend()\n",
        "    ax.grid(True)\n",
        "\n",
        "plt.tight_layout()\n",
        "plt.show()"
      ]
    },
    {
      "cell_type": "markdown",
      "metadata": {
        "id": "yJRzGsPji7CE"
      },
      "source": [
        "### 3. Точность\n",
        "Модель GRUClassifier с агрегацией mean достигла максимума accuracy — 91.74% или 0.917.  \n",
        "\n",
        "$0.915 \\leqslant 0.917$ --- 3 балла."
      ]
    },
    {
      "cell_type": "markdown",
      "metadata": {
        "id": "ipoX2U_dhR2d"
      },
      "source": [
        "### 4. Отчет об экспериментах по обучению рекуррентных нейронных сетей с разными модификациями\n",
        "\n",
        "#### Общие результаты\n",
        "\n",
        "Для базовой модели (RNN с одним слоем и обычной агрегацией) достигнута лучшая accuracy:\n",
        "\n",
        "- max агрегация: 90.52%\n",
        "- mean агрегация: 90.78%\n",
        "\n",
        "#### Использованные модификации\n",
        "\n",
        "1. Замена стандартного RNN на GRU (Gated Recurrent Units).\n",
        "2. Использование двухслойного RNN.\n",
        "3. Конкатенация агрегированных выходов с последним эмбеддингом (увеличение контекстной информации).\n",
        "4. Объединение всех перечисленных модификаций в одной модели.\n",
        "\n",
        "#### Влияние модификаций на качество\n",
        "\n",
        "Согласно графикам и максимальным точностям (в процентах):\n",
        "\n",
        "| Модель                        | max аггрегация (%) | mean аггрегация (%) | Улучшение по сравнению с базой             |\n",
        "|------------------------------|--------------------|---------------------|---------------------------------------------|\n",
        "| GRUClassifier                | 91.52              | 91.74               |  лучший результат, улучшение около 1% по сравнению с базой |\n",
        "| DoubleRNNClassifier          | 91.14              | 90.90               |  Небольшое улучшение                      |\n",
        "| ModifiAgregateRNNClassifier  | 90.70              | 90.48               | Точность снизилась на доли процента, незначительно но это ухудшило качество    |\n",
        "| AllModifiClassifier          | 91.48              | 91.36               | Модель менее точна чем просто GRU, возможно, потому что конкатенация с последним эмбеддингом снижает точность       |\n",
        "\n",
        "\n",
        "#### Анализ графиков сходимости\n",
        "\n",
        "- Все модели демонстрируют быструю сходимость в первые 2-3 эпохи.\n",
        "- После этого accuracy стабилизируется с незначительными колебаниями в пределах долей процента.\n",
        "- Колебания качества относительно эпох несущественные и укладываются в пределы допустимого шумового отклонения.\n",
        "- Это говорит о стабильной сходимости обученных моделей без резких скачков и переобучения.\n",
        "\n",
        "#### Оптимальная модель\n",
        "\n",
        "- Модель GRUClassifier с агрегацией mean достигла наивысшего максимума accuracy — 91.74%.\n",
        "- В целом, объединённая модель (AllModifiClassifier) также показывает очень высокие результаты, близкие к GRU.\n",
        "- Следовательно, оптимальной по эффективности можно считать модель GRU с агрегацией mean.\n",
        "\n",
        "***\n",
        "\n",
        "### Вывод\n",
        "\n",
        "Эксперименты подтвердили, что переход к GRU и использование двухслойных рекуррентных слоев повышают качество модели, а конкатенация с последним эмбеддингом наоборот. Стабильность сходимости свидетельствует о хорошей настройке гиперпараметров и качественной обучающей выборке."
      ]
    }
  ],
  "metadata": {
    "accelerator": "GPU",
    "colab": {
      "provenance": []
    },
    "gpuClass": "standard",
    "kernelspec": {
      "display_name": "venv",
      "language": "python",
      "name": "python3"
    },
    "language_info": {
      "codemirror_mode": {
        "name": "ipython",
        "version": 3
      },
      "file_extension": ".py",
      "mimetype": "text/x-python",
      "name": "python",
      "nbconvert_exporter": "python",
      "pygments_lexer": "ipython3",
      "version": "3.12.3"
    }
  },
  "nbformat": 4,
  "nbformat_minor": 0
}